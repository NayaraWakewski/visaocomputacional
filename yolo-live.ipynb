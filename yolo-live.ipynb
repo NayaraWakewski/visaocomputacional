{
 "cells": [
  {
   "cell_type": "code",
   "execution_count": 1,
   "metadata": {},
   "outputs": [],
   "source": [
    "import cv2\n",
    "import numpy as np\n",
    "# Carregar os arquivos do modelo YOLO (os arquivos que nós baixamos)\n",
    "net = cv2.dnn.readNetFromDarknet('yolov3.cfg', 'yolov3.weights')\n",
    "# Carregar as classes - e transformando em uma lista\n",
    "classes = []\n",
    "f = open('coco.names', 'r')\n",
    "lines = f.readlines()\n",
    "f.close()\n",
    "\n",
    "for line in lines:\n",
    "    classes.append(line.strip())\n",
    "# Configurar cores aleatórias para cada classe\n",
    "colors = np.random.uniform(0, 255, size=(len(classes), 3))"
   ]
  },
  {
   "cell_type": "code",
   "execution_count": 2,
   "metadata": {},
   "outputs": [],
   "source": [
    "# Inicializar a captura de vídeo da webcam\n",
    "cap = cv2.VideoCapture(0)"
   ]
  },
  {
   "cell_type": "code",
   "execution_count": 3,
   "metadata": {},
   "outputs": [
    {
     "ename": "KeyboardInterrupt",
     "evalue": "",
     "output_type": "error",
     "traceback": [
      "\u001b[1;31m---------------------------------------------------------------------------\u001b[0m",
      "\u001b[1;31mKeyboardInterrupt\u001b[0m                         Traceback (most recent call last)",
      "Cell \u001b[1;32mIn[3], line 22\u001b[0m\n\u001b[0;32m     20\u001b[0m \u001b[39m# Passar o blob pela rede neural\u001b[39;00m\n\u001b[0;32m     21\u001b[0m net\u001b[39m.\u001b[39msetInput(blob)\n\u001b[1;32m---> 22\u001b[0m outputs \u001b[39m=\u001b[39m net\u001b[39m.\u001b[39;49mforward(output_layers)\n\u001b[0;32m     24\u001b[0m \u001b[39m# Configurar as listas de detecção\u001b[39;00m\n\u001b[0;32m     25\u001b[0m class_ids \u001b[39m=\u001b[39m []\n",
      "\u001b[1;31mKeyboardInterrupt\u001b[0m: "
     ]
    }
   ],
   "source": [
    "while True:\n",
    "    # Ler o próximo quadro da captura de vídeo\n",
    "    ret, frame = cap.read()\n",
    "\n",
    "    # Verificar se a captura de vídeo foi bem-sucedida\n",
    "    if not ret:\n",
    "        break\n",
    "\n",
    "    # Obter as dimensões do quadro\n",
    "    height, width, _ = frame.shape\n",
    "\n",
    "    # Construir um blob a partir do quadro para o modelo YOLO\n",
    "    blob = cv2.dnn.blobFromImage(frame, 1/255, (416, 416), swapRB=True, crop=False)\n",
    "\n",
    "    # Definir as camadas de saída\n",
    "    output_names = net.getUnconnectedOutLayersNames()\n",
    "    output_layers = [net.getLayer(name) for name in output_names]\n",
    "    output_layers = [layer.name for layer in output_layers]\n",
    "\n",
    "    # Passar o blob pela rede neural\n",
    "    net.setInput(blob)\n",
    "    outputs = net.forward(output_layers)\n",
    "\n",
    "    # Configurar as listas de detecção\n",
    "    class_ids = []\n",
    "    confidences = []\n",
    "    boxes = []\n",
    "\n",
    "    # Processar as saídas da rede neural\n",
    "    for output in outputs:\n",
    "        for detection in output:\n",
    "            scores = detection[5:]\n",
    "            class_id = np.argmax(scores)\n",
    "            confidence = scores[class_id]\n",
    "\n",
    "            if confidence > 0.5:\n",
    "                # Obter as coordenadas do objeto detectado\n",
    "                center_x = int(detection[0] * width)\n",
    "                center_y = int(detection[1] * height)\n",
    "                w = int(detection[2] * width)\n",
    "                h = int(detection[3] * height)\n",
    "\n",
    "                # Calcular os cantos do retângulo delimitador\n",
    "                x = int(center_x - w / 2)\n",
    "                y = int(center_y - h / 2)\n",
    "\n",
    "                # Adicionar as informações à lista de detecção\n",
    "                class_ids.append(class_id)\n",
    "                confidences.append(float(confidence))\n",
    "                boxes.append([x, y, w, h])\n",
    "\n",
    "    # Aplicar a supressão não máxima para eliminar detecções redundantes\n",
    "    indices = cv2.dnn.NMSBoxes(boxes, confidences, score_threshold=0.5, nms_threshold=0.4)\n",
    "\n",
    "    # Desenhar os retângulos delimitadores e exibir as classes nas detecções\n",
    "    for i in indices:\n",
    "        box = boxes[i]\n",
    "        x, y, w, h = box\n",
    "        label = f'{classes[class_ids[i]]}: {confidences[i]:.2f}'\n",
    "        color = colors[class_ids[i]]\n",
    "\n",
    "        cv2.rectangle(frame, (x, y), (x+w, y+h), color, 2)\n",
    "        cv2.putText(frame, label, (x, y - 10), cv2.FONT_HERSHEY_SIMPLEX, 0.5, color, 2)\n",
    "\n",
    "    # Exibir o quadro com as detecções\n",
    "    cv2.imshow('Object Detection', frame)\n",
    "\n",
    "    # Parar o loop se a tecla 'q' for pressionada\n",
    "    if cv2.waitKey(1) == ord('q'):\n",
    "        break\n",
    "\n",
    "# Liberar os recursos\n",
    "cap.release()\n",
    "cv2.destroyAllWindows()\n"
   ]
  }
 ],
 "metadata": {
  "kernelspec": {
   "display_name": "Python 3",
   "language": "python",
   "name": "python3"
  },
  "language_info": {
   "codemirror_mode": {
    "name": "ipython",
    "version": 3
   },
   "file_extension": ".py",
   "mimetype": "text/x-python",
   "name": "python",
   "nbconvert_exporter": "python",
   "pygments_lexer": "ipython3",
   "version": "3.11.4"
  },
  "orig_nbformat": 4
 },
 "nbformat": 4,
 "nbformat_minor": 2
}
